{
 "cells": [
  {
   "cell_type": "code",
   "execution_count": 1,
   "id": "7b16d259",
   "metadata": {},
   "outputs": [],
   "source": [
    "from google.cloud import storage\n",
    "client = storage.Client()\n",
    "bucket = client.get_bucket('rubintv_data')"
   ]
  },
  {
   "cell_type": "raw",
   "id": "28ae0fd0",
   "metadata": {},
   "source": [
    "Delete all but the most current all sky static image:"
   ]
  },
  {
   "cell_type": "code",
   "execution_count": 2,
   "id": "36681ea9",
   "metadata": {},
   "outputs": [
    {
     "name": "stdout",
     "output_type": "stream",
     "text": [
      "Found 64 blobs for all_sky_current\n"
     ]
    }
   ],
   "source": [
    "prefix = 'all_sky_current'\n",
    "blobs = list(bucket.list_blobs(prefix=prefix))\n",
    "print(f\"Found {len(blobs)} blobs for {prefix}\")"
   ]
  },
  {
   "cell_type": "code",
   "execution_count": 3,
   "id": "5ffb7305",
   "metadata": {},
   "outputs": [
    {
     "name": "stdout",
     "output_type": "stream",
     "text": [
      "Will not delete most recent image: all_sky_current/all-sky-current_dayObs_2022-05-05_seqNum_00209.jpg\n"
     ]
    }
   ],
   "source": [
    "names = [b.name for b in blobs]\n",
    "names = sorted(names)\n",
    "mostRecent = names[-1]\n",
    "print(f\"Will not delete most recent image: {mostRecent}\")"
   ]
  },
  {
   "cell_type": "code",
   "execution_count": 4,
   "id": "ce676d5e",
   "metadata": {},
   "outputs": [
    {
     "name": "stdout",
     "output_type": "stream",
     "text": [
      "Not deleting most recent image all_sky_current/all-sky-current_dayObs_2022-05-05_seqNum_00209.jpg\n"
     ]
    }
   ],
   "source": [
    "for b in blobs:\n",
    "    if b.name == mostRecent:\n",
    "        print(f'Not deleting most recent image {b.name}')\n",
    "    else:\n",
    "        b.delete()"
   ]
  },
  {
   "cell_type": "raw",
   "id": "64d23c41",
   "metadata": {},
   "source": [
    "Now we do all the non-final movies:"
   ]
  },
  {
   "cell_type": "code",
   "execution_count": 15,
   "id": "2ad923ce",
   "metadata": {},
   "outputs": [
    {
     "name": "stdout",
     "output_type": "stream",
     "text": [
      "Found 569 blobs for all_sky_movies\n"
     ]
    }
   ],
   "source": [
    "prefix = 'all_sky_movies'\n",
    "blobs = list(bucket.list_blobs(prefix=prefix))\n",
    "print(f\"Found {len(blobs)} blobs for {prefix}\")"
   ]
  },
  {
   "cell_type": "code",
   "execution_count": 12,
   "id": "578d82e8",
   "metadata": {},
   "outputs": [],
   "source": [
    "del names  # no bugs from above!"
   ]
  },
  {
   "cell_type": "code",
   "execution_count": 18,
   "id": "8fad706b",
   "metadata": {
    "scrolled": false
   },
   "outputs": [
    {
     "name": "stdout",
     "output_type": "stream",
     "text": [
      "Will delete 305 non-final movies, but leaving the most recent:\n",
      "all_sky_movies/all-sky-movies_dayObs_2022-05-05_seqNum_00204.mp4\n"
     ]
    }
   ],
   "source": [
    "non_final_names = [b.name for b in blobs if b.name.find('final')==-1]\n",
    "non_final_blobs = [b for b in blobs if b.name.find('final')==-1]\n",
    "most_recent = sorted(non_final_names)[-1]\n",
    "non_final_names.remove(most_recent)\n",
    "print(f\"Will delete {len(non_final_names)} non-final movies, but leaving the most recent:\\n{most_recent}\")\n",
    "assert most_recent not in non_final_names\n",
    "del blobs # no accidental deletion of everything!"
   ]
  },
  {
   "cell_type": "code",
   "execution_count": 20,
   "id": "1762363b",
   "metadata": {
    "scrolled": false
   },
   "outputs": [
    {
     "name": "stdout",
     "output_type": "stream",
     "text": [
      "Not deleting most recent image all_sky_movies/all-sky-movies_dayObs_2022-05-05_seqNum_00204.mp4\n"
     ]
    }
   ],
   "source": [
    "for b in non_final_blobs:\n",
    "    if b.name == most_recent:\n",
    "        print(f'Not deleting most recent image {b.name}')\n",
    "    else:\n",
    "#         print(f'Would delete {b.name}')\n",
    "        b.delete()"
   ]
  },
  {
   "cell_type": "code",
   "execution_count": null,
   "id": "7eb2f259",
   "metadata": {},
   "outputs": [],
   "source": []
  },
  {
   "cell_type": "code",
   "execution_count": null,
   "id": "b85b36cb",
   "metadata": {},
   "outputs": [],
   "source": []
  },
  {
   "cell_type": "code",
   "execution_count": 29,
   "id": "85c3a767",
   "metadata": {},
   "outputs": [
    {
     "name": "stdout",
     "output_type": "stream",
     "text": [
      "ERROR! Session/line number was not unique in database. History logging moved to new session 9960\n",
      "Found 439 blobs for all_sky_movies\n"
     ]
    }
   ],
   "source": [
    "prefix = 'all_sky_movies'\n",
    "blobs = list(bucket.list_blobs(prefix=prefix))\n",
    "print(f\"Found {len(blobs)} blobs for {prefix}\")"
   ]
  },
  {
   "cell_type": "code",
   "execution_count": 30,
   "id": "af2204e9",
   "metadata": {},
   "outputs": [
    {
     "name": "stdout",
     "output_type": "stream",
     "text": [
      "Found 439 blobs for all_sky_movies\n"
     ]
    }
   ],
   "source": [
    "prefix = 'all_sky_movies'\n",
    "blobs = list(bucket.list_blobs(prefix=prefix))\n",
    "print(f\"Found {len(blobs)} blobs for {prefix}\")"
   ]
  },
  {
   "cell_type": "code",
   "execution_count": 31,
   "id": "aa051567",
   "metadata": {},
   "outputs": [
    {
     "data": {
      "text/plain": [
       "138"
      ]
     },
     "execution_count": 31,
     "metadata": {},
     "output_type": "execute_result"
    }
   ],
   "source": [
    "final = [b.name for b in blobs if b.name.find('final')!=-1]\n",
    "len(final)"
   ]
  },
  {
   "cell_type": "code",
   "execution_count": null,
   "id": "57599917",
   "metadata": {},
   "outputs": [],
   "source": []
  },
  {
   "cell_type": "code",
   "execution_count": null,
   "id": "82a69d88",
   "metadata": {},
   "outputs": [],
   "source": []
  },
  {
   "cell_type": "code",
   "execution_count": null,
   "id": "2d382a8d",
   "metadata": {},
   "outputs": [],
   "source": []
  },
  {
   "cell_type": "code",
   "execution_count": null,
   "id": "13cd4b38",
   "metadata": {},
   "outputs": [],
   "source": []
  },
  {
   "cell_type": "code",
   "execution_count": null,
   "id": "49268773",
   "metadata": {},
   "outputs": [],
   "source": []
  },
  {
   "cell_type": "code",
   "execution_count": null,
   "id": "62d1f6af",
   "metadata": {},
   "outputs": [],
   "source": []
  }
 ],
 "metadata": {
  "kernelspec": {
   "display_name": "Python 3 (ipykernel)",
   "language": "python",
   "name": "python3"
  },
  "language_info": {
   "codemirror_mode": {
    "name": "ipython",
    "version": 3
   },
   "file_extension": ".py",
   "mimetype": "text/x-python",
   "name": "python",
   "nbconvert_exporter": "python",
   "pygments_lexer": "ipython3",
   "version": "3.8.13"
  }
 },
 "nbformat": 4,
 "nbformat_minor": 5
}
