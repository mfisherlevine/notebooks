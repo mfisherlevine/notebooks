{
 "cells": [
  {
   "cell_type": "code",
   "execution_count": 1,
   "id": "ebd3a1f6",
   "metadata": {},
   "outputs": [],
   "source": [
    "import humanize"
   ]
  },
  {
   "cell_type": "code",
   "execution_count": 2,
   "id": "6a91361f",
   "metadata": {},
   "outputs": [
    {
     "name": "stderr",
     "output_type": "stream",
     "text": [
      "\n",
      "WARNING: version mismatch between CFITSIO header (v4.000999999999999) and linked library (v4.01).\n",
      "\n",
      "\n",
      "WARNING: version mismatch between CFITSIO header (v4.000999999999999) and linked library (v4.01).\n",
      "\n",
      "\n",
      "WARNING: version mismatch between CFITSIO header (v4.000999999999999) and linked library (v4.01).\n",
      "\n"
     ]
    }
   ],
   "source": [
    "from lsst.rubintv.production.rubinTv import PREFIXES\n",
    "from google.cloud import storage\n",
    "client = storage.Client()\n",
    "bucket = client.get_bucket('rubintv_data')"
   ]
  },
  {
   "cell_type": "code",
   "execution_count": 3,
   "id": "9355948b",
   "metadata": {},
   "outputs": [
    {
     "name": "stdout",
     "output_type": "stream",
     "text": [
      "Channel summit_imexam:\n",
      "Total size 6.5 GB (14,503 items)\n",
      "\n",
      "Channel summit_specexam:\n",
      "Total size 628.3 MB (2,878 items)\n",
      "\n",
      "Channel auxtel_mount_torques:\n",
      "Total size 1.8 GB (9,418 items)\n",
      "\n",
      "Channel auxtel_monitor:\n",
      "Total size 22.5 GB (14,657 items)\n",
      "\n",
      "Channel all_sky_current:\n",
      "Total size 130.7 MB (74 items)\n",
      "\n",
      "Channel all_sky_movies:\n",
      "Total size 49.9 GB (270 items)\n",
      "\n",
      "-----------\n",
      "Total size in channels : 81.5 GB in 41,800 items.\n",
      "Total size *everywhere*: 81.5 GB in 41,806 items.\n"
     ]
    }
   ],
   "source": [
    "total_size = 0\n",
    "total_items = 0\n",
    "for prefix in PREFIXES:\n",
    "    print(f'Channel {prefix}:')\n",
    "    blobs = list(bucket.list_blobs(prefix=prefix))\n",
    "    total_items += len(blobs)\n",
    "    size = 0\n",
    "    for b in blobs:\n",
    "        size += b.size\n",
    "        total_size += b.size\n",
    "    print(f\"Total size {humanize.naturalsize(size)} ({humanize.number.intcomma(len(blobs))} items)\\n\")\n",
    "print('-----------')\n",
    "print(f'Total size in channels : {humanize.naturalsize(total_size)} in {humanize.number.intcomma(total_items)} items.')\n",
    "all_blobs = list(bucket.list_blobs())\n",
    "print(f'Total size *everywhere*: {humanize.naturalsize(sum(b.size for b in all_blobs))} in {humanize.number.intcomma(len(all_blobs))} items.')"
   ]
  },
  {
   "cell_type": "code",
   "execution_count": 4,
   "id": "9b649b4a",
   "metadata": {},
   "outputs": [
    {
     "name": "stdout",
     "output_type": "stream",
     "text": [
      "Non final all sky movies: 519.2 MB in 7 items\n",
      "\n"
     ]
    }
   ],
   "source": [
    "prefix = 'all_sky_movies'\n",
    "blobs = list(bucket.list_blobs(prefix=prefix))\n",
    "size = 0\n",
    "n_non_final = 0\n",
    "for b in blobs:\n",
    "    if b.name.find('final') == -1:\n",
    "        size += b.size\n",
    "        n_non_final += 1\n",
    "print(f\"Non final all sky movies: {humanize.naturalsize(size)} in {humanize.number.intcomma(n_non_final)} items\\n\")"
   ]
  },
  {
   "cell_type": "code",
   "execution_count": 5,
   "id": "7a2db206",
   "metadata": {},
   "outputs": [
    {
     "name": "stdout",
     "output_type": "stream",
     "text": [
      "Biggest items:\n",
      "all_sky_movies/all-sky-movies_dayObs_2022-05-02_seqNum_final.mp4: 349.1 MB\n",
      "all_sky_movies/all-sky-movies_dayObs_2021-08-24_seqNum_final.mp4: 277.9 MB\n",
      "all_sky_movies/all-sky-movies_dayObs_2021-07-26_seqNum_final.mp4: 274.5 MB\n",
      "all_sky_movies/all-sky-movies_dayObs_2021-08-26_seqNum_final.mp4: 255.8 MB\n",
      "all_sky_movies/all-sky-movies_dayObs_2021-08-23_seqNum_final.mp4: 255.0 MB\n",
      "all_sky_movies/all-sky-movies_dayObs_2021-07-28_seqNum_final.mp4: 253.4 MB\n",
      "all_sky_movies/all-sky-movies_dayObs_2021-09-23_seqNum_final.mp4: 253.3 MB\n",
      "all_sky_movies/all-sky-movies_dayObs_2021-09-22_seqNum_final.mp4: 252.6 MB\n",
      "all_sky_movies/all-sky-movies_dayObs_2021-08-25_seqNum_final.mp4: 252.1 MB\n",
      "all_sky_movies/all-sky-movies_dayObs_2021-09-24_seqNum_final.mp4: 249.5 MB\n"
     ]
    }
   ],
   "source": [
    "n_items = 10\n",
    "blobs = list(bucket.list_blobs(prefix=prefix))\n",
    "sorted_blobs = sorted([b for b in blobs], key=lambda b: b.size, reverse=True)\n",
    "print('Biggest items:')\n",
    "for b in sorted_blobs[0:n_items]:\n",
    "    print(f\"{b.name}: {humanize.naturalsize(b.size)}\")"
   ]
  },
  {
   "cell_type": "code",
   "execution_count": null,
   "id": "0e9bdb37",
   "metadata": {},
   "outputs": [],
   "source": []
  }
 ],
 "metadata": {
  "kernelspec": {
   "display_name": "Python 3 (ipykernel)",
   "language": "python",
   "name": "python3"
  },
  "language_info": {
   "codemirror_mode": {
    "name": "ipython",
    "version": 3
   },
   "file_extension": ".py",
   "mimetype": "text/x-python",
   "name": "python",
   "nbconvert_exporter": "python",
   "pygments_lexer": "ipython3",
   "version": "3.8.13"
  }
 },
 "nbformat": 4,
 "nbformat_minor": 5
}
