{
 "cells": [
  {
   "cell_type": "code",
   "execution_count": 1,
   "id": "825793d5",
   "metadata": {},
   "outputs": [],
   "source": [
    "from google.cloud import storage\n",
    "client = storage.Client()\n",
    "bucket = client.get_bucket('rubintv_data')"
   ]
  },
  {
   "cell_type": "code",
   "execution_count": 2,
   "id": "80e0b507",
   "metadata": {},
   "outputs": [],
   "source": [
    "moviedir = '/project/mfl/allskycamdev/movies/'"
   ]
  },
  {
   "cell_type": "code",
   "execution_count": 3,
   "id": "a5c7455e",
   "metadata": {},
   "outputs": [
    {
     "name": "stdout",
     "output_type": "stream",
     "text": [
      "Found 441 blobs for all_sky_movies\n"
     ]
    }
   ],
   "source": [
    "prefix = 'all_sky_movies'\n",
    "blobs = list(bucket.list_blobs(prefix=prefix))\n",
    "print(f\"Found {len(blobs)} blobs for {prefix}\")"
   ]
  },
  {
   "cell_type": "code",
   "execution_count": 4,
   "id": "9cf0b035",
   "metadata": {},
   "outputs": [
    {
     "name": "stdout",
     "output_type": "stream",
     "text": [
      "Found 138 final movies, e.g. all_sky_movies/all-sky-movies_dayObs_2021-11-12_seqNum_final.mp4\n"
     ]
    }
   ],
   "source": [
    "final_movies = [b.name for b in blobs if b.name.find('final')!=-1]\n",
    "del blobs\n",
    "print(f\"Found {len(final_movies)} final movies, e.g. {final_movies[0]}\")"
   ]
  },
  {
   "cell_type": "code",
   "execution_count": 5,
   "id": "6941aae3",
   "metadata": {},
   "outputs": [
    {
     "name": "stderr",
     "output_type": "stream",
     "text": [
      "\n",
      "WARNING: version mismatch between CFITSIO header (v4.000999999999999) and linked library (v4.01).\n",
      "\n",
      "\n",
      "WARNING: version mismatch between CFITSIO header (v4.000999999999999) and linked library (v4.01).\n",
      "\n",
      "\n",
      "WARNING: version mismatch between CFITSIO header (v4.000999999999999) and linked library (v4.01).\n",
      "\n"
     ]
    }
   ],
   "source": [
    "from lsst.rubintv.production import Uploader\n",
    "from lsst.rubintv.production.rubinTv import _dataIdToFilename"
   ]
  },
  {
   "cell_type": "code",
   "execution_count": 6,
   "id": "5952028c",
   "metadata": {},
   "outputs": [],
   "source": [
    "uploader = Uploader()"
   ]
  },
  {
   "cell_type": "code",
   "execution_count": 7,
   "id": "0602d225",
   "metadata": {},
   "outputs": [],
   "source": [
    "channel = 'all_sky_movies'"
   ]
  },
  {
   "cell_type": "code",
   "execution_count": 8,
   "id": "5d0c4563",
   "metadata": {},
   "outputs": [],
   "source": [
    "import os\n",
    "files = os.listdir(moviedir)"
   ]
  },
  {
   "cell_type": "code",
   "execution_count": 9,
   "id": "ad62699a",
   "metadata": {},
   "outputs": [
    {
     "data": {
      "text/plain": [
       "135"
      ]
     },
     "execution_count": 9,
     "metadata": {},
     "output_type": "execute_result"
    },
    {
     "data": {
      "text/plain": [
       "125"
      ]
     },
     "execution_count": 9,
     "metadata": {},
     "output_type": "execute_result"
    }
   ],
   "source": [
    "found = []\n",
    "missing = []\n",
    "for file in files:\n",
    "    if 'all_sky_movies/'+file in final_movies:\n",
    "        found.append(file)\n",
    "    else:\n",
    "        missing.append(file)\n",
    "len(found)\n",
    "len(missing)"
   ]
  },
  {
   "cell_type": "code",
   "execution_count": 10,
   "id": "fcce5e66",
   "metadata": {},
   "outputs": [],
   "source": [
    "del found"
   ]
  },
  {
   "cell_type": "code",
   "execution_count": 11,
   "id": "14eaee33",
   "metadata": {},
   "outputs": [],
   "source": [
    "def dayObsFromFilename(filename):\n",
    "    return int(filename.split('dayObs_')[1].split('_')[0].replace('-',''))"
   ]
  },
  {
   "cell_type": "code",
   "execution_count": 13,
   "id": "8a4c827a",
   "metadata": {
    "scrolled": false
   },
   "outputs": [
    {
     "name": "stdout",
     "output_type": "stream",
     "text": [
      "Uploading /project/mfl/allskycamdev/movies/all-sky-movies_dayObs_2021-08-02_seqNum_final.mp4 as all-sky-movies_dayObs_2021-08-02_seqNum_final.mp4\n",
      "Uploading /project/mfl/allskycamdev/movies/all-sky-movies_dayObs_2021-08-26_seqNum_final.mp4 as all-sky-movies_dayObs_2021-08-26_seqNum_final.mp4\n",
      "Uploading /project/mfl/allskycamdev/movies/all-sky-movies_dayObs_2021-07-31_seqNum_final.mp4 as all-sky-movies_dayObs_2021-07-31_seqNum_final.mp4\n",
      "Uploading /project/mfl/allskycamdev/movies/all-sky-movies_dayObs_2021-07-18_seqNum_final.mp4 as all-sky-movies_dayObs_2021-07-18_seqNum_final.mp4\n",
      "Uploading /project/mfl/allskycamdev/movies/all-sky-movies_dayObs_2021-10-15_seqNum_final.mp4 as all-sky-movies_dayObs_2021-10-15_seqNum_final.mp4\n",
      "Uploading /project/mfl/allskycamdev/movies/all-sky-movies_dayObs_2021-10-07_seqNum_final.mp4 as all-sky-movies_dayObs_2021-10-07_seqNum_final.mp4\n",
      "Uploading /project/mfl/allskycamdev/movies/all-sky-movies_dayObs_2021-10-23_seqNum_final.mp4 as all-sky-movies_dayObs_2021-10-23_seqNum_final.mp4\n",
      "Uploading /project/mfl/allskycamdev/movies/all-sky-movies_dayObs_2021-08-15_seqNum_final.mp4 as all-sky-movies_dayObs_2021-08-15_seqNum_final.mp4\n",
      "Uploading /project/mfl/allskycamdev/movies/all-sky-movies_dayObs_2021-10-13_seqNum_final.mp4 as all-sky-movies_dayObs_2021-10-13_seqNum_final.mp4\n",
      "Uploading /project/mfl/allskycamdev/movies/all-sky-movies_dayObs_2021-10-01_seqNum_final.mp4 as all-sky-movies_dayObs_2021-10-01_seqNum_final.mp4\n",
      "Uploading /project/mfl/allskycamdev/movies/all-sky-movies_dayObs_2021-07-12_seqNum_final.mp4 as all-sky-movies_dayObs_2021-07-12_seqNum_final.mp4\n",
      "Uploading /project/mfl/allskycamdev/movies/all-sky-movies_dayObs_2021-09-23_seqNum_final.mp4 as all-sky-movies_dayObs_2021-09-23_seqNum_final.mp4\n",
      "Uploading /project/mfl/allskycamdev/movies/all-sky-movies_dayObs_2021-11-03_seqNum_final.mp4 as all-sky-movies_dayObs_2021-11-03_seqNum_final.mp4\n",
      "Uploading /project/mfl/allskycamdev/movies/all-sky-movies_dayObs_2021-09-07_seqNum_final.mp4 as all-sky-movies_dayObs_2021-09-07_seqNum_final.mp4\n",
      "Uploading /project/mfl/allskycamdev/movies/all-sky-movies_dayObs_2021-11-02_seqNum_final.mp4 as all-sky-movies_dayObs_2021-11-02_seqNum_final.mp4\n",
      "Uploading /project/mfl/allskycamdev/movies/all-sky-movies_dayObs_2021-07-11_seqNum_final.mp4 as all-sky-movies_dayObs_2021-07-11_seqNum_final.mp4\n",
      "Uploading /project/mfl/allskycamdev/movies/all-sky-movies_dayObs_2021-07-22_seqNum_final.mp4 as all-sky-movies_dayObs_2021-07-22_seqNum_final.mp4\n",
      "Uploading /project/mfl/allskycamdev/movies/all-sky-movies_dayObs_2021-07-26_seqNum_final.mp4 as all-sky-movies_dayObs_2021-07-26_seqNum_final.mp4\n",
      "Uploading /project/mfl/allskycamdev/movies/all-sky-movies_dayObs_2021-11-08_seqNum_final.mp4 as all-sky-movies_dayObs_2021-11-08_seqNum_final.mp4\n",
      "Uploading /project/mfl/allskycamdev/movies/all-sky-movies_dayObs_2021-10-11_seqNum_final.mp4 as all-sky-movies_dayObs_2021-10-11_seqNum_final.mp4\n",
      "Uploading /project/mfl/allskycamdev/movies/all-sky-movies_dayObs_2021-10-21_seqNum_final.mp4 as all-sky-movies_dayObs_2021-10-21_seqNum_final.mp4\n",
      "Uploading /project/mfl/allskycamdev/movies/all-sky-movies_dayObs_2021-08-17_seqNum_final.mp4 as all-sky-movies_dayObs_2021-08-17_seqNum_final.mp4\n",
      "Uploading /project/mfl/allskycamdev/movies/all-sky-movies_dayObs_2021-07-27_seqNum_final.mp4 as all-sky-movies_dayObs_2021-07-27_seqNum_final.mp4\n",
      "Uploading /project/mfl/allskycamdev/movies/all-sky-movies_dayObs_2021-09-03_seqNum_final.mp4 as all-sky-movies_dayObs_2021-09-03_seqNum_final.mp4\n",
      "Uploading /project/mfl/allskycamdev/movies/all-sky-movies_dayObs_2021-07-21_seqNum_final.mp4 as all-sky-movies_dayObs_2021-07-21_seqNum_final.mp4\n",
      "Uploading /project/mfl/allskycamdev/movies/all-sky-movies_dayObs_2021-09-21_seqNum_final.mp4 as all-sky-movies_dayObs_2021-09-21_seqNum_final.mp4\n",
      "Uploading /project/mfl/allskycamdev/movies/all-sky-movies_dayObs_2021-10-05_seqNum_final.mp4 as all-sky-movies_dayObs_2021-10-05_seqNum_final.mp4\n",
      "Uploading /project/mfl/allskycamdev/movies/all-sky-movies_dayObs_2021-10-30_seqNum_final.mp4 as all-sky-movies_dayObs_2021-10-30_seqNum_final.mp4\n",
      "Uploading /project/mfl/allskycamdev/movies/all-sky-movies_dayObs_2021-08-10_seqNum_final.mp4 as all-sky-movies_dayObs_2021-08-10_seqNum_final.mp4\n",
      "Uploading /project/mfl/allskycamdev/movies/all-sky-movies_dayObs_2021-11-05_seqNum_final.mp4 as all-sky-movies_dayObs_2021-11-05_seqNum_final.mp4\n",
      "Uploading /project/mfl/allskycamdev/movies/all-sky-movies_dayObs_2021-10-18_seqNum_final.mp4 as all-sky-movies_dayObs_2021-10-18_seqNum_final.mp4\n",
      "Uploading /project/mfl/allskycamdev/movies/all-sky-movies_dayObs_2021-07-17_seqNum_final.mp4 as all-sky-movies_dayObs_2021-07-17_seqNum_final.mp4\n",
      "Uploading /project/mfl/allskycamdev/movies/all-sky-movies_dayObs_2021-09-19_seqNum_final.mp4 as all-sky-movies_dayObs_2021-09-19_seqNum_final.mp4\n",
      "Uploading /project/mfl/allskycamdev/movies/all-sky-movies_dayObs_2021-07-14_seqNum_final.mp4 as all-sky-movies_dayObs_2021-07-14_seqNum_final.mp4\n",
      "Uploading /project/mfl/allskycamdev/movies/all-sky-movies_dayObs_2021-09-09_seqNum_final.mp4 as all-sky-movies_dayObs_2021-09-09_seqNum_final.mp4\n",
      "Uploading /project/mfl/allskycamdev/movies/all-sky-movies_dayObs_2021-10-24_seqNum_final.mp4 as all-sky-movies_dayObs_2021-10-24_seqNum_final.mp4\n",
      "Uploading /project/mfl/allskycamdev/movies/all-sky-movies_dayObs_2021-09-01_seqNum_final.mp4 as all-sky-movies_dayObs_2021-09-01_seqNum_final.mp4\n",
      "Uploading /project/mfl/allskycamdev/movies/all-sky-movies_dayObs_2021-08-07_seqNum_final.mp4 as all-sky-movies_dayObs_2021-08-07_seqNum_final.mp4\n",
      "Uploading /project/mfl/allskycamdev/movies/all-sky-movies_dayObs_2021-10-04_seqNum_final.mp4 as all-sky-movies_dayObs_2021-10-04_seqNum_final.mp4\n",
      "Uploading /project/mfl/allskycamdev/movies/all-sky-movies_dayObs_2021-07-20_seqNum_final.mp4 as all-sky-movies_dayObs_2021-07-20_seqNum_final.mp4\n",
      "Uploading /project/mfl/allskycamdev/movies/all-sky-movies_dayObs_2021-11-04_seqNum_final.mp4 as all-sky-movies_dayObs_2021-11-04_seqNum_final.mp4\n",
      "Uploading /project/mfl/allskycamdev/movies/all-sky-movies_dayObs_2021-09-02_seqNum_final.mp4 as all-sky-movies_dayObs_2021-09-02_seqNum_final.mp4\n",
      "Uploading /project/mfl/allskycamdev/movies/all-sky-movies_dayObs_2021-10-19_seqNum_final.mp4 as all-sky-movies_dayObs_2021-10-19_seqNum_final.mp4\n",
      "Uploading /project/mfl/allskycamdev/movies/all-sky-movies_dayObs_2021-07-29_seqNum_final.mp4 as all-sky-movies_dayObs_2021-07-29_seqNum_final.mp4\n",
      "Uploading /project/mfl/allskycamdev/movies/all-sky-movies_dayObs_2021-07-25_seqNum_final.mp4 as all-sky-movies_dayObs_2021-07-25_seqNum_final.mp4\n",
      "Uploading /project/mfl/allskycamdev/movies/all-sky-movies_dayObs_2021-08-12_seqNum_final.mp4 as all-sky-movies_dayObs_2021-08-12_seqNum_final.mp4\n",
      "Uploading /project/mfl/allskycamdev/movies/all-sky-movies_dayObs_2021-08-27_seqNum_final.mp4 as all-sky-movies_dayObs_2021-08-27_seqNum_final.mp4\n",
      "Uploading /project/mfl/allskycamdev/movies/all-sky-movies_dayObs_2021-09-26_seqNum_final.mp4 as all-sky-movies_dayObs_2021-09-26_seqNum_final.mp4\n",
      "Uploading /project/mfl/allskycamdev/movies/all-sky-movies_dayObs_2021-10-02_seqNum_final.mp4 as all-sky-movies_dayObs_2021-10-02_seqNum_final.mp4\n",
      "Uploading /project/mfl/allskycamdev/movies/all-sky-movies_dayObs_2021-10-03_seqNum_final.mp4 as all-sky-movies_dayObs_2021-10-03_seqNum_final.mp4\n",
      "Uploading /project/mfl/allskycamdev/movies/all-sky-movies_dayObs_2021-11-01_seqNum_final.mp4 as all-sky-movies_dayObs_2021-11-01_seqNum_final.mp4\n",
      "Uploading /project/mfl/allskycamdev/movies/all-sky-movies_dayObs_2021-08-30_seqNum_final.mp4 as all-sky-movies_dayObs_2021-08-30_seqNum_final.mp4\n",
      "Uploading /project/mfl/allskycamdev/movies/all-sky-movies_dayObs_2021-09-30_seqNum_final.mp4 as all-sky-movies_dayObs_2021-09-30_seqNum_final.mp4\n",
      "Uploading /project/mfl/allskycamdev/movies/all-sky-movies_dayObs_2021-09-25_seqNum_final.mp4 as all-sky-movies_dayObs_2021-09-25_seqNum_final.mp4\n",
      "Uploading /project/mfl/allskycamdev/movies/all-sky-movies_dayObs_2021-11-10_seqNum_final.mp4 as all-sky-movies_dayObs_2021-11-10_seqNum_final.mp4\n",
      "Uploading /project/mfl/allskycamdev/movies/all-sky-movies_dayObs_2021-08-03_seqNum_final.mp4 as all-sky-movies_dayObs_2021-08-03_seqNum_final.mp4\n",
      "Uploading /project/mfl/allskycamdev/movies/all-sky-movies_dayObs_2021-11-11_seqNum_final.mp4 as all-sky-movies_dayObs_2021-11-11_seqNum_final.mp4\n"
     ]
    },
    {
     "name": "stdout",
     "output_type": "stream",
     "text": [
      "Uploading /project/mfl/allskycamdev/movies/all-sky-movies_dayObs_2021-10-06_seqNum_final.mp4 as all-sky-movies_dayObs_2021-10-06_seqNum_final.mp4\n",
      "Uploading /project/mfl/allskycamdev/movies/all-sky-movies_dayObs_2021-07-28_seqNum_final.mp4 as all-sky-movies_dayObs_2021-07-28_seqNum_final.mp4\n",
      "Uploading /project/mfl/allskycamdev/movies/all-sky-movies_dayObs_2021-09-29_seqNum_final.mp4 as all-sky-movies_dayObs_2021-09-29_seqNum_final.mp4\n",
      "Uploading /project/mfl/allskycamdev/movies/all-sky-movies_dayObs_2021-09-18_seqNum_final.mp4 as all-sky-movies_dayObs_2021-09-18_seqNum_final.mp4\n",
      "Uploading /project/mfl/allskycamdev/movies/all-sky-movies_dayObs_2021-08-25_seqNum_final.mp4 as all-sky-movies_dayObs_2021-08-25_seqNum_final.mp4\n",
      "Uploading /project/mfl/allskycamdev/movies/all-sky-movies_dayObs_2021-10-20_seqNum_final.mp4 as all-sky-movies_dayObs_2021-10-20_seqNum_final.mp4\n",
      "Uploading /project/mfl/allskycamdev/movies/all-sky-movies_dayObs_2021-07-13_seqNum_final.mp4 as all-sky-movies_dayObs_2021-07-13_seqNum_final.mp4\n",
      "Uploading /project/mfl/allskycamdev/movies/all-sky-movies_dayObs_2021-10-09_seqNum_final.mp4 as all-sky-movies_dayObs_2021-10-09_seqNum_final.mp4\n",
      "Uploading /project/mfl/allskycamdev/movies/all-sky-movies_dayObs_2021-10-08_seqNum_final.mp4 as all-sky-movies_dayObs_2021-10-08_seqNum_final.mp4\n",
      "Uploading /project/mfl/allskycamdev/movies/all-sky-movies_dayObs_2021-11-09_seqNum_final.mp4 as all-sky-movies_dayObs_2021-11-09_seqNum_final.mp4\n",
      "Uploading /project/mfl/allskycamdev/movies/all-sky-movies_dayObs_2021-11-06_seqNum_final.mp4 as all-sky-movies_dayObs_2021-11-06_seqNum_final.mp4\n",
      "Uploading /project/mfl/allskycamdev/movies/all-sky-movies_dayObs_2021-09-06_seqNum_final.mp4 as all-sky-movies_dayObs_2021-09-06_seqNum_final.mp4\n",
      "Uploading /project/mfl/allskycamdev/movies/all-sky-movies_dayObs_2021-11-07_seqNum_final.mp4 as all-sky-movies_dayObs_2021-11-07_seqNum_final.mp4\n",
      "Uploading /project/mfl/allskycamdev/movies/all-sky-movies_dayObs_2021-09-22_seqNum_final.mp4 as all-sky-movies_dayObs_2021-09-22_seqNum_final.mp4\n",
      "Uploading /project/mfl/allskycamdev/movies/all-sky-movies_dayObs_2021-08-24_seqNum_final.mp4 as all-sky-movies_dayObs_2021-08-24_seqNum_final.mp4\n",
      "Uploading /project/mfl/allskycamdev/movies/all-sky-movies_dayObs_2021-07-19_seqNum_final.mp4 as all-sky-movies_dayObs_2021-07-19_seqNum_final.mp4\n",
      "Uploading /project/mfl/allskycamdev/movies/all-sky-movies_dayObs_2021-07-30_seqNum_final.mp4 as all-sky-movies_dayObs_2021-07-30_seqNum_final.mp4\n",
      "Uploading /project/mfl/allskycamdev/movies/all-sky-movies_dayObs_2021-10-27_seqNum_final.mp4 as all-sky-movies_dayObs_2021-10-27_seqNum_final.mp4\n",
      "Uploading /project/mfl/allskycamdev/movies/all-sky-movies_dayObs_2021-10-29_seqNum_final.mp4 as all-sky-movies_dayObs_2021-10-29_seqNum_final.mp4\n",
      "Uploading /project/mfl/allskycamdev/movies/all-sky-movies_dayObs_2021-09-14_seqNum_final.mp4 as all-sky-movies_dayObs_2021-09-14_seqNum_final.mp4\n",
      "Uploading /project/mfl/allskycamdev/movies/all-sky-movies_dayObs_2021-09-08_seqNum_final.mp4 as all-sky-movies_dayObs_2021-09-08_seqNum_final.mp4\n",
      "Uploading /project/mfl/allskycamdev/movies/all-sky-movies_dayObs_2021-08-01_seqNum_final.mp4 as all-sky-movies_dayObs_2021-08-01_seqNum_final.mp4\n",
      "Uploading /project/mfl/allskycamdev/movies/all-sky-movies_dayObs_2021-07-23_seqNum_final.mp4 as all-sky-movies_dayObs_2021-07-23_seqNum_final.mp4\n",
      "Uploading /project/mfl/allskycamdev/movies/all-sky-movies_dayObs_2021-08-31_seqNum_final.mp4 as all-sky-movies_dayObs_2021-08-31_seqNum_final.mp4\n",
      "Uploading /project/mfl/allskycamdev/movies/all-sky-movies_dayObs_2021-09-04_seqNum_final.mp4 as all-sky-movies_dayObs_2021-09-04_seqNum_final.mp4\n",
      "Uploading /project/mfl/allskycamdev/movies/all-sky-movies_dayObs_2021-08-05_seqNum_final.mp4 as all-sky-movies_dayObs_2021-08-05_seqNum_final.mp4\n",
      "Uploading /project/mfl/allskycamdev/movies/all-sky-movies_dayObs_2021-09-16_seqNum_final.mp4 as all-sky-movies_dayObs_2021-09-16_seqNum_final.mp4\n",
      "Uploading /project/mfl/allskycamdev/movies/all-sky-movies_dayObs_2021-08-16_seqNum_final.mp4 as all-sky-movies_dayObs_2021-08-16_seqNum_final.mp4\n",
      "Uploading /project/mfl/allskycamdev/movies/all-sky-movies_dayObs_2021-09-17_seqNum_final.mp4 as all-sky-movies_dayObs_2021-09-17_seqNum_final.mp4\n",
      "Uploading /project/mfl/allskycamdev/movies/all-sky-movies_dayObs_2021-07-24_seqNum_final.mp4 as all-sky-movies_dayObs_2021-07-24_seqNum_final.mp4\n",
      "Uploading /project/mfl/allskycamdev/movies/all-sky-movies_dayObs_2021-08-04_seqNum_final.mp4 as all-sky-movies_dayObs_2021-08-04_seqNum_final.mp4\n",
      "Uploading /project/mfl/allskycamdev/movies/all-sky-movies_dayObs_2021-08-08_seqNum_final.mp4 as all-sky-movies_dayObs_2021-08-08_seqNum_final.mp4\n",
      "Uploading /project/mfl/allskycamdev/movies/all-sky-movies_dayObs_2021-10-26_seqNum_final.mp4 as all-sky-movies_dayObs_2021-10-26_seqNum_final.mp4\n",
      "Uploading /project/mfl/allskycamdev/movies/all-sky-movies_dayObs_2021-08-14_seqNum_final.mp4 as all-sky-movies_dayObs_2021-08-14_seqNum_final.mp4\n",
      "Uploading /project/mfl/allskycamdev/movies/all-sky-movies_dayObs_2021-09-13_seqNum_final.mp4 as all-sky-movies_dayObs_2021-09-13_seqNum_final.mp4\n",
      "Uploading /project/mfl/allskycamdev/movies/all-sky-movies_dayObs_2021-08-28_seqNum_final.mp4 as all-sky-movies_dayObs_2021-08-28_seqNum_final.mp4\n",
      "Uploading /project/mfl/allskycamdev/movies/all-sky-movies_dayObs_2021-07-10_seqNum_final.mp4 as all-sky-movies_dayObs_2021-07-10_seqNum_final.mp4\n",
      "Uploading /project/mfl/allskycamdev/movies/all-sky-movies_dayObs_2021-08-18_seqNum_final.mp4 as all-sky-movies_dayObs_2021-08-18_seqNum_final.mp4\n",
      "Uploading /project/mfl/allskycamdev/movies/all-sky-movies_dayObs_2021-10-25_seqNum_final.mp4 as all-sky-movies_dayObs_2021-10-25_seqNum_final.mp4\n",
      "Uploading /project/mfl/allskycamdev/movies/all-sky-movies_dayObs_2021-10-16_seqNum_final.mp4 as all-sky-movies_dayObs_2021-10-16_seqNum_final.mp4\n",
      "Uploading /project/mfl/allskycamdev/movies/all-sky-movies_dayObs_2021-10-10_seqNum_final.mp4 as all-sky-movies_dayObs_2021-10-10_seqNum_final.mp4\n",
      "Uploading /project/mfl/allskycamdev/movies/all-sky-movies_dayObs_2021-10-22_seqNum_final.mp4 as all-sky-movies_dayObs_2021-10-22_seqNum_final.mp4\n",
      "Uploading /project/mfl/allskycamdev/movies/all-sky-movies_dayObs_2021-08-11_seqNum_final.mp4 as all-sky-movies_dayObs_2021-08-11_seqNum_final.mp4\n",
      "Uploading /project/mfl/allskycamdev/movies/all-sky-movies_dayObs_2021-07-15_seqNum_final.mp4 as all-sky-movies_dayObs_2021-07-15_seqNum_final.mp4\n",
      "Uploading /project/mfl/allskycamdev/movies/all-sky-movies_dayObs_2021-08-06_seqNum_final.mp4 as all-sky-movies_dayObs_2021-08-06_seqNum_final.mp4\n",
      "Uploading /project/mfl/allskycamdev/movies/all-sky-movies_dayObs_2021-08-23_seqNum_final.mp4 as all-sky-movies_dayObs_2021-08-23_seqNum_final.mp4\n",
      "Uploading /project/mfl/allskycamdev/movies/all-sky-movies_dayObs_2021-08-19_seqNum_final.mp4 as all-sky-movies_dayObs_2021-08-19_seqNum_final.mp4\n",
      "Uploading /project/mfl/allskycamdev/movies/all-sky-movies_dayObs_2021-09-11_seqNum_final.mp4 as all-sky-movies_dayObs_2021-09-11_seqNum_final.mp4\n",
      "Uploading /project/mfl/allskycamdev/movies/all-sky-movies_dayObs_2021-08-22_seqNum_final.mp4 as all-sky-movies_dayObs_2021-08-22_seqNum_final.mp4\n",
      "Uploading /project/mfl/allskycamdev/movies/all-sky-movies_dayObs_2021-09-24_seqNum_final.mp4 as all-sky-movies_dayObs_2021-09-24_seqNum_final.mp4\n",
      "Uploading /project/mfl/allskycamdev/movies/all-sky-movies_dayObs_2021-10-28_seqNum_final.mp4 as all-sky-movies_dayObs_2021-10-28_seqNum_final.mp4\n",
      "Uploading /project/mfl/allskycamdev/movies/all-sky-movies_dayObs_2021-10-17_seqNum_final.mp4 as all-sky-movies_dayObs_2021-10-17_seqNum_final.mp4\n",
      "Uploading /project/mfl/allskycamdev/movies/all-sky-movies_dayObs_2021-10-14_seqNum_final.mp4 as all-sky-movies_dayObs_2021-10-14_seqNum_final.mp4\n",
      "Uploading /project/mfl/allskycamdev/movies/all-sky-movies_dayObs_2021-08-20_seqNum_final.mp4 as all-sky-movies_dayObs_2021-08-20_seqNum_final.mp4\n",
      "Uploading /project/mfl/allskycamdev/movies/all-sky-movies_dayObs_2021-09-12_seqNum_final.mp4 as all-sky-movies_dayObs_2021-09-12_seqNum_final.mp4\n",
      "Uploading /project/mfl/allskycamdev/movies/all-sky-movies_dayObs_2021-09-15_seqNum_final.mp4 as all-sky-movies_dayObs_2021-09-15_seqNum_final.mp4\n",
      "Uploading /project/mfl/allskycamdev/movies/all-sky-movies_dayObs_2021-08-29_seqNum_final.mp4 as all-sky-movies_dayObs_2021-08-29_seqNum_final.mp4\n"
     ]
    },
    {
     "name": "stdout",
     "output_type": "stream",
     "text": [
      "Uploading /project/mfl/allskycamdev/movies/all-sky-movies_dayObs_2021-09-28_seqNum_final.mp4 as all-sky-movies_dayObs_2021-09-28_seqNum_final.mp4\n",
      "Uploading /project/mfl/allskycamdev/movies/all-sky-movies_dayObs_2021-09-05_seqNum_final.mp4 as all-sky-movies_dayObs_2021-09-05_seqNum_final.mp4\n",
      "Uploading /project/mfl/allskycamdev/movies/all-sky-movies_dayObs_2021-10-12_seqNum_final.mp4 as all-sky-movies_dayObs_2021-10-12_seqNum_final.mp4\n",
      "Uploading /project/mfl/allskycamdev/movies/all-sky-movies_dayObs_2021-09-10_seqNum_final.mp4 as all-sky-movies_dayObs_2021-09-10_seqNum_final.mp4\n",
      "Uploading /project/mfl/allskycamdev/movies/all-sky-movies_dayObs_2021-09-27_seqNum_final.mp4 as all-sky-movies_dayObs_2021-09-27_seqNum_final.mp4\n",
      "Uploading /project/mfl/allskycamdev/movies/all-sky-movies_dayObs_2021-09-20_seqNum_final.mp4 as all-sky-movies_dayObs_2021-09-20_seqNum_final.mp4\n",
      "Uploading /project/mfl/allskycamdev/movies/all-sky-movies_dayObs_2021-08-09_seqNum_final.mp4 as all-sky-movies_dayObs_2021-08-09_seqNum_final.mp4\n",
      "Uploading /project/mfl/allskycamdev/movies/all-sky-movies_dayObs_2021-10-31_seqNum_final.mp4 as all-sky-movies_dayObs_2021-10-31_seqNum_final.mp4\n",
      "Uploading /project/mfl/allskycamdev/movies/all-sky-movies_dayObs_2021-08-21_seqNum_final.mp4 as all-sky-movies_dayObs_2021-08-21_seqNum_final.mp4\n",
      "Uploading /project/mfl/allskycamdev/movies/all-sky-movies_dayObs_2021-08-13_seqNum_final.mp4 as all-sky-movies_dayObs_2021-08-13_seqNum_final.mp4\n",
      "Uploading /project/mfl/allskycamdev/movies/all-sky-movies_dayObs_2021-07-16_seqNum_final.mp4 as all-sky-movies_dayObs_2021-07-16_seqNum_final.mp4\n"
     ]
    }
   ],
   "source": [
    "for file in missing:\n",
    "    fullFilename = os.path.join(moviedir, file)\n",
    "    dayObsInt = dayObsFromFilename(file)\n",
    "    fakeDataId = {'day_obs': dayObsInt, 'seq_num': 'final'}\n",
    "    uploadAsFilename = _dataIdToFilename(channel, fakeDataId, extension='.mp4')\n",
    "    print(f'Uploading {fullFilename} as {uploadAsFilename}')\n",
    "    uploader.googleUpload(channel, fullFilename, uploadAsFilename)"
   ]
  },
  {
   "cell_type": "raw",
   "id": "cad0a5c4",
   "metadata": {},
   "source": [
    "Check it worked..."
   ]
  },
  {
   "cell_type": "code",
   "execution_count": 16,
   "id": "759f67ba",
   "metadata": {},
   "outputs": [
    {
     "name": "stdout",
     "output_type": "stream",
     "text": [
      "Found 569 blobs for all_sky_movies\n",
      "Found 263 final movies, e.g. all_sky_movies/all-sky-movies_dayObs_2021-07-10_seqNum_final.mp4\n"
     ]
    }
   ],
   "source": [
    "blobs = list(bucket.list_blobs(prefix=prefix))\n",
    "print(f\"Found {len(blobs)} blobs for {prefix}\")\n",
    "final_movies = [b.name for b in blobs if b.name.find('final')!=-1]\n",
    "del blobs\n",
    "print(f\"Found {len(final_movies)} final movies, e.g. {final_movies[0]}\")"
   ]
  },
  {
   "cell_type": "code",
   "execution_count": 17,
   "id": "4182fbc6",
   "metadata": {},
   "outputs": [
    {
     "data": {
      "text/plain": [
       "260"
      ]
     },
     "execution_count": 17,
     "metadata": {},
     "output_type": "execute_result"
    },
    {
     "data": {
      "text/plain": [
       "0"
      ]
     },
     "execution_count": 17,
     "metadata": {},
     "output_type": "execute_result"
    }
   ],
   "source": [
    "found = []\n",
    "missing = []\n",
    "for file in files:\n",
    "    if 'all_sky_movies/'+file in final_movies:\n",
    "        found.append(file)\n",
    "    else:\n",
    "        missing.append(file)\n",
    "len(found)\n",
    "len(missing)"
   ]
  },
  {
   "cell_type": "code",
   "execution_count": null,
   "id": "eecd4014",
   "metadata": {},
   "outputs": [],
   "source": []
  }
 ],
 "metadata": {
  "kernelspec": {
   "display_name": "Python 3 (ipykernel)",
   "language": "python",
   "name": "python3"
  },
  "language_info": {
   "codemirror_mode": {
    "name": "ipython",
    "version": 3
   },
   "file_extension": ".py",
   "mimetype": "text/x-python",
   "name": "python",
   "nbconvert_exporter": "python",
   "pygments_lexer": "ipython3",
   "version": "3.8.13"
  }
 },
 "nbformat": 4,
 "nbformat_minor": 5
}
