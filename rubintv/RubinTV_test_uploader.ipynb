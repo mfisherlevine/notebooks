{
 "cells": [
  {
   "cell_type": "code",
   "execution_count": 1,
   "id": "fe05686c",
   "metadata": {},
   "outputs": [
    {
     "name": "stderr",
     "output_type": "stream",
     "text": [
      "\n",
      "WARNING: version mismatch between CFITSIO header (v4.000999999999999) and linked library (v4.01).\n",
      "\n",
      "\n",
      "WARNING: version mismatch between CFITSIO header (v4.000999999999999) and linked library (v4.01).\n",
      "\n",
      "\n",
      "WARNING: version mismatch between CFITSIO header (v4.000999999999999) and linked library (v4.01).\n",
      "\n"
     ]
    }
   ],
   "source": [
    "from lsst.rubintv.production import Uploader\n",
    "from lsst.rubintv.production.rubinTv import _dataIdToFilename"
   ]
  },
  {
   "cell_type": "code",
   "execution_count": 2,
   "id": "b0d32013",
   "metadata": {},
   "outputs": [],
   "source": [
    "uploader = Uploader()"
   ]
  },
  {
   "cell_type": "code",
   "execution_count": 7,
   "id": "bec936ef",
   "metadata": {},
   "outputs": [],
   "source": []
  },
  {
   "cell_type": "code",
   "execution_count": 8,
   "id": "1c884ef1",
   "metadata": {},
   "outputs": [
    {
     "name": "stdout",
     "output_type": "stream",
     "text": [
      "comcam-monitor_dayObs_2022-04-27_seqNum_2.png\n"
     ]
    }
   ],
   "source": [
    "channel = 'comcam_monitor'\n",
    "sourceFilename = '/home/mfl/ComCam2.png'\n",
    "fakeDataId = {'day_obs': 20220427, 'seq_num': 2}\n",
    "uploadAsFilename = _dataIdToFilename(channel, fakeDataId)\n",
    "print(uploadAsFilename)"
   ]
  },
  {
   "cell_type": "code",
   "execution_count": 9,
   "id": "4bf8ebd2",
   "metadata": {},
   "outputs": [],
   "source": [
    "uploader.googleUpload(channel=channel,\n",
    "                      sourceFilename=sourceFilename,\n",
    "                      uploadAsFilename=uploadAsFilename,)"
   ]
  },
  {
   "cell_type": "code",
   "execution_count": null,
   "id": "9243871d",
   "metadata": {},
   "outputs": [],
   "source": []
  },
  {
   "cell_type": "code",
   "execution_count": 3,
   "id": "7bb2b57f",
   "metadata": {},
   "outputs": [
    {
     "name": "stdout",
     "output_type": "stream",
     "text": [
      "all-sky-current_dayObs_2022-04-28_seqNum_1.jpg\n"
     ]
    }
   ],
   "source": [
    "channel = 'all_sky_current'\n",
    "sourceFilename = '/home/mfl/rubin-all-sky-cam-1.jpg'\n",
    "fakeDataId = {'day_obs': 20220428, 'seq_num': 1}\n",
    "uploadAsFilename = _dataIdToFilename(channel, fakeDataId, extension='.jpg')\n",
    "print(uploadAsFilename)"
   ]
  },
  {
   "cell_type": "code",
   "execution_count": 4,
   "id": "8b4033b2",
   "metadata": {},
   "outputs": [],
   "source": [
    "uploader.googleUpload(channel=channel,\n",
    "                      sourceFilename=sourceFilename,\n",
    "                      uploadAsFilename=uploadAsFilename,)"
   ]
  },
  {
   "cell_type": "code",
   "execution_count": 8,
   "id": "b544c752",
   "metadata": {},
   "outputs": [
    {
     "name": "stdout",
     "output_type": "stream",
     "text": [
      "all-sky-current-movie_dayObs_2022-04-28_seqNum_100.mp4\n"
     ]
    }
   ],
   "source": [
    "channel = 'all_sky_current_movie'\n",
    "sourceFilename = '/home/mfl/all_sky_test1.mp4'\n",
    "fakeDataId = {'day_obs': 20220428, 'seq_num': 100}\n",
    "uploadAsFilename = _dataIdToFilename(channel, fakeDataId, extension='.mp4')\n",
    "print(uploadAsFilename)"
   ]
  },
  {
   "cell_type": "code",
   "execution_count": 9,
   "id": "0f0fb0da",
   "metadata": {},
   "outputs": [],
   "source": [
    "uploader.googleUpload(channel=channel,\n",
    "                      sourceFilename=sourceFilename,\n",
    "                      uploadAsFilename=uploadAsFilename,)"
   ]
  },
  {
   "cell_type": "code",
   "execution_count": null,
   "id": "b3466ba1",
   "metadata": {},
   "outputs": [],
   "source": []
  }
 ],
 "metadata": {
  "kernelspec": {
   "display_name": "Python 3 (ipykernel)",
   "language": "python",
   "name": "python3"
  },
  "language_info": {
   "codemirror_mode": {
    "name": "ipython",
    "version": 3
   },
   "file_extension": ".py",
   "mimetype": "text/x-python",
   "name": "python",
   "nbconvert_exporter": "python",
   "pygments_lexer": "ipython3",
   "version": "3.8.12"
  }
 },
 "nbformat": 4,
 "nbformat_minor": 5
}
